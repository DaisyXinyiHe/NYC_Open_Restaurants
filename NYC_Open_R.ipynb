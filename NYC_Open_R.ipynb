{
 "cells": [
  {
   "cell_type": "markdown",
   "metadata": {},
   "source": [
    "Import NYC_Open_Restaurant Dataset downloaded from NYC Open Data. Name it \"dataset\". "
   ]
  },
  {
   "cell_type": "code",
   "execution_count": 2,
   "metadata": {},
   "outputs": [],
   "source": [
    "import numpy as np\n",
    "import pandas as pd\n",
    "import matplotlib.pyplot as plt\n",
    "import math\n",
    "dataset = pd.read_csv(\"NYC_Open_Restaurants.csv\")"
   ]
  },
  {
   "cell_type": "markdown",
   "metadata": {},
   "source": [
    "Dataset Description:\n",
    "The dataset contains informations about restaurants that got approved of opening for outdoor seating in the New York City areas. All restaurants are complient with health guideline (all \"Yes\" at \"healthcompliance_terms\"). \n",
    "Question: \n",
    "1. How many restaurants are approved for sidewalk seating only, roadway seating only, and sidewalk & roadway seating? \n",
    "2. How many restaurants can serve alcohol?\n",
    "3. Is region (borough) related for seating approval?\n",
    "4. How many restaurants' seating interests match their final approvals? \n",
    "5. When did most restaurant apply and when did most restaurant get approved? \n",
    "6. How is alcohol apporval in each region? \n",
    "To answer these question, first look at dataset. Any missing data? Seems like there are some missing data, but they are not important now. "
   ]
  },
  {
   "cell_type": "code",
   "execution_count": 33,
   "metadata": {},
   "outputs": [
    {
     "name": "stdout",
     "output_type": "stream",
     "text": [
      "<class 'pandas.core.frame.DataFrame'>\n",
      "RangeIndex: 1000 entries, 0 to 999\n",
      "Data columns (total 35 columns):\n",
      "objectid                         1000 non-null int64\n",
      "globalid                         1000 non-null object\n",
      "seating_interest_sidewalk        1000 non-null object\n",
      "restaurant_name                  1000 non-null object\n",
      "legal_business_name              1000 non-null object\n",
      "doing_business_as_dba            1000 non-null object\n",
      "bulding_number                   1000 non-null object\n",
      "street                           1000 non-null object\n",
      "borough                          1000 non-null object\n",
      "zip                              1000 non-null int64\n",
      "business_address                 1000 non-null object\n",
      "food_service_establishment       1000 non-null object\n",
      "sidewalk_dimensions_length       826 non-null float64\n",
      "sidewalk_dimensions_width        826 non-null float64\n",
      "sidewalk_dimensions_area         826 non-null float64\n",
      "roadway_dimensions_length        607 non-null float64\n",
      "roadway_dimensions_width         607 non-null float64\n",
      "roadway_dimensions_area          607 non-null float64\n",
      "approved_for_sidewalk_seating    1000 non-null object\n",
      "approved_for_roadway_seating     1000 non-null object\n",
      "qualify_alcohol                  1000 non-null object\n",
      "sla_serial_number                629 non-null object\n",
      "sla_license_type                 629 non-null object\n",
      "landmark_district_or_building    1000 non-null object\n",
      "landmarkdistrict_terms           169 non-null object\n",
      "healthcompliance_terms           1000 non-null object\n",
      "time_of_submission               1000 non-null object\n",
      "latitude                         813 non-null float64\n",
      "longitude                        813 non-null float64\n",
      "community_board                  813 non-null float64\n",
      "council_district                 813 non-null float64\n",
      "census_tract                     813 non-null float64\n",
      "bin                              807 non-null float64\n",
      "bbl                              807 non-null float64\n",
      "nta                              813 non-null object\n",
      "dtypes: float64(13), int64(2), object(20)\n",
      "memory usage: 273.5+ KB\n",
      "None\n",
      "           objectid           zip  sidewalk_dimensions_length  \\\n",
      "count   1000.000000   1000.000000                  826.000000   \n",
      "mean    7319.340000  10584.797000                   33.027845   \n",
      "std     4357.758946    616.097755                   35.252928   \n",
      "min      100.000000   7059.000000                    0.000000   \n",
      "25%     1219.750000  10014.000000                   16.000000   \n",
      "50%    10174.500000  10128.000000                   25.000000   \n",
      "75%    10424.250000  11221.000000                   40.000000   \n",
      "max    10675.000000  11694.000000                  720.000000   \n",
      "\n",
      "       sidewalk_dimensions_width  sidewalk_dimensions_area  \\\n",
      "count                 826.000000                826.000000   \n",
      "mean                   10.026634                389.763923   \n",
      "std                     6.828586               1342.577967   \n",
      "min                     0.000000                  0.000000   \n",
      "25%                     5.000000                108.000000   \n",
      "50%                     8.000000                220.000000   \n",
      "75%                    13.000000                400.000000   \n",
      "max                    50.000000              36000.000000   \n",
      "\n",
      "       roadway_dimensions_length  roadway_dimensions_width  \\\n",
      "count                 607.000000                607.000000   \n",
      "mean                   31.283361                  8.092257   \n",
      "std                    23.428469                  2.683784   \n",
      "min                     0.000000                  0.000000   \n",
      "25%                    18.000000                  8.000000   \n",
      "50%                    25.000000                  8.000000   \n",
      "75%                    38.500000                  8.000000   \n",
      "max                   213.000000                 40.000000   \n",
      "\n",
      "       roadway_dimensions_area    latitude   longitude  community_board  \\\n",
      "count               607.000000  813.000000  813.000000       813.000000   \n",
      "mean                255.802306   40.729818  -73.955400         5.119311   \n",
      "std                 219.047497    0.053758    0.062489         3.445463   \n",
      "min                   0.000000   40.540539  -74.177057         1.000000   \n",
      "25%                 144.000000   40.707295  -73.992910         2.000000   \n",
      "50%                 200.000000   40.730238  -73.975724         5.000000   \n",
      "75%                 305.000000   40.759341  -73.930259         7.000000   \n",
      "max                2000.000000   40.900022  -73.708984        18.000000   \n",
      "\n",
      "       council_district   census_tract           bin           bbl  \n",
      "count        813.000000     813.000000  8.070000e+02  8.070000e+02  \n",
      "mean          16.969250    2845.897909  2.235316e+06  2.175426e+09  \n",
      "std           15.419193   12825.273454  1.315751e+06  1.272130e+09  \n",
      "min            1.000000       1.000000  1.000000e+06  1.000118e+09  \n",
      "25%            3.000000      65.000000  1.025002e+06  1.007275e+09  \n",
      "50%           10.000000     140.000000  1.090232e+06  1.021790e+09  \n",
      "75%           33.000000     516.000000  3.173242e+06  3.051520e+09  \n",
      "max           51.000000  157902.000000  5.130734e+06  5.062440e+09  \n"
     ]
    }
   ],
   "source": [
    "print(dataset.info())\n",
    "print(dataset.describe())"
   ]
  },
  {
   "cell_type": "markdown",
   "metadata": {},
   "source": [
    "Question 1. How many restaurants are approved for sidewalk seating only, roadway seating only, and sidewalk & roadway seating? "
   ]
  },
  {
   "cell_type": "code",
   "execution_count": 3,
   "metadata": {},
   "outputs": [
    {
     "name": "stdout",
     "output_type": "stream",
     "text": [
      "347 restaurants are approved for sidewalk seating only.\n",
      "128 restaurants are approved for roadway seating only.\n",
      "479 restaurants are approved for both.\n",
      "46 restaurants are not approved for either.\n",
      "34.7% restaurants are approved for sidewalk seating only.\n",
      "12.8% restaurants are approved for roadway seating only.\n",
      "47.9% restaurants are approved for both.\n",
      "4.6% restaurants are not approved for either.\n"
     ]
    }
   ],
   "source": [
    "## Restaurnts Appoved for Sidewalk Seating Only\n",
    "sw_approve = dataset[\"approved_for_sidewalk_seating\"] == \"yes\"\n",
    "rw_Napprove = dataset[\"approved_for_roadway_seating\"] == \"no\"\n",
    "sw_only = dataset[sw_approve&rw_Napprove]\n",
    "#print(sw_only.shape)\n",
    "print(str(len(sw_only))+\" restaurants are approved for sidewalk seating only.\")\n",
    "\n",
    "## Restaurants Approved for Roadway Seating Only\n",
    "sw_Napprove = dataset[\"approved_for_sidewalk_seating\"] == \"no\"\n",
    "rw_approve = dataset[\"approved_for_roadway_seating\"] == \"yes\"\n",
    "rw_only = dataset[sw_Napprove&rw_approve]\n",
    "#print(rw_only.shape)\n",
    "print(str(len(rw_only))+\" restaurants are approved for roadway seating only.\")\n",
    "\n",
    "## Restautants Approved for Both\n",
    "sw_rw = dataset[sw_approve&rw_approve]\n",
    "#print(rw_only.shape)\n",
    "print(str(len(sw_rw))+\" restaurants are approved for both.\")\n",
    "\n",
    "## Restaurants Not Approved for Either\n",
    "sw_rw_N = dataset[sw_Napprove&rw_Napprove]\n",
    "#print(rw_only.shape)\n",
    "print(str(len(sw_rw_N ))+\" restaurants are not approved for either.\")\n",
    "\n",
    "## Display in Percentage\n",
    "print('{:.1f}'.format(len(sw_only)/1000*100.0)+\"% restaurants are approved for sidewalk seating only.\")\n",
    "print('{:.1f}'.format(len(rw_only)/1000*100)+\"% restaurants are approved for roadway seating only.\")\n",
    "print('{:.1f}'.format(len(sw_rw)/1000*100)+\"% restaurants are approved for both.\")\n",
    "print('{:.1f}'.format(len(sw_rw_N )/1000*100)+\"% restaurants are not approved for either.\")\n"
   ]
  },
  {
   "cell_type": "markdown",
   "metadata": {},
   "source": [
    "2. How many restaurants can serve alcohol?"
   ]
  },
  {
   "cell_type": "code",
   "execution_count": 4,
   "metadata": {},
   "outputs": [
    {
     "name": "stdout",
     "output_type": "stream",
     "text": [
      "62.9% restaurants can serve alcohol.\n",
      "37.1% restaurants cannot serve alcohol.\n"
     ]
    }
   ],
   "source": [
    "serve_alcohol = dataset[\"qualify_alcohol\"].value_counts(normalize = True)\n",
    "print('{:.1f}'.format(serve_alcohol[\"yes\"]*100)+\"% restaurants can serve alcohol.\")\n",
    "print('{:.1f}'.format(serve_alcohol[\"no\"]*100)+\"% restaurants cannot serve alcohol.\")"
   ]
  },
  {
   "cell_type": "markdown",
   "metadata": {},
   "source": [
    "3. Is region (borough) related? \n",
    "a. How many restaurants got seating approval in each region?"
   ]
  },
  {
   "cell_type": "code",
   "execution_count": 5,
   "metadata": {},
   "outputs": [],
   "source": [
    "#Assign seating approval a value to each restaurant: 1 for sideway only, 2 for roadway only, 3 for both, 0 for none\n",
    "\n",
    "seating = np.array([0]*1000)\n",
    "seating[sw_only.index.values] = str(1)\n",
    "seating[rw_only.index.values] = str(2)\n",
    "seating[sw_rw.index.values] = str(3)\n",
    "seating[sw_rw_N.index.values]=str(0)\n",
    "\n",
    "#Add a column in dataset to seperated restaurant seating approval situations\n",
    "dataset[\"Seating_Approval\"] = seating"
   ]
  },
  {
   "cell_type": "markdown",
   "metadata": {},
   "source": [
    "First, look at the general approval rate at each region. Seems like Staten island has the highest approval rate, but only 12 restaurants are counted at Staten Island. Manhattan has the most restaurant counted,and their approval rate is pretty nice---94.3%!"
   ]
  },
  {
   "cell_type": "code",
   "execution_count": 58,
   "metadata": {},
   "outputs": [
    {
     "name": "stdout",
     "output_type": "stream",
     "text": [
      "                        counts  percentage\n",
      "borough       Approved                    \n",
      "Bronx         1             40    0.909091\n",
      "              0              4    0.090909\n",
      "Brooklyn      1            244    0.960630\n",
      "              0             10    0.039370\n",
      "Manhattan     1            480    0.943026\n",
      "              0             29    0.056974\n",
      "Queens        1            178    0.983425\n",
      "              0              3    0.016575\n",
      "Staten Island 1             12    1.000000\n"
     ]
    },
    {
     "data": {
      "image/png": "[encoded data removed]",
      "text/plain": [
       "<Figure size 432x288 with 1 Axes>"
      ]
     },
     "metadata": {
      "needs_background": "light"
     },
     "output_type": "display_data"
    }
   ],
   "source": [
    "#Compute the general approval rate at each region.  \n",
    "dataset2 = dataset\n",
    "approval = np.array([0]*1000)\n",
    "i = dataset[dataset[\"Seating_Approval\"]!=0]\n",
    "approval[i.index.values] = 1\n",
    "dataset2[\"Approved\"] = approval\n",
    "counts = dataset2.groupby(\"borough\")[\"Approved\"].value_counts()\n",
    "percentage = dataset2.groupby(\"borough\")[\"Approved\"].value_counts(normalize = True)\n",
    "df = pd.concat([counts, percentage],axis=1, keys = (\"counts\", \"percentage\"))\n",
    "print(df)\n",
    "\n",
    "# set height of bar\n",
    "a = dataset2[dataset2[\"Approved\"]==0].groupby(\"borough\")[\"Approved\"].value_counts()\n",
    "b = dataset2[dataset2[\"Approved\"]==1].groupby(\"borough\")[\"Approved\"].value_counts()\n",
    "non_approved_restaurant = a.values\n",
    "non_approved_restaurant = np.append(non_approved_restaurant, [0])\n",
    "non_approved_restaurant = non_approved_restaurant.tolist()\n",
    "approved_restaurant = b.values\n",
    "approved_restaurant = approved_restaurant.tolist()\n",
    "\n",
    "# set width of bar\n",
    "barWidth = 0.2\n",
    "\n",
    "# Set position of bar on X axis\n",
    "r1 = np.arange(len(approved_restaurant))\n",
    "r2 = [x + barWidth for x in r1]\n",
    "\n",
    "# Make the plot\n",
    "plt.bar(r1, approved_restaurant, color='b', width=barWidth, edgecolor='white', label='Approved')\n",
    "plt.bar(r2, non_approved_restaurant , color='g', width=barWidth, edgecolor='white', label='Non-Approved')\n",
    "\n",
    "# Add xticks on the middle of the group bars\n",
    "plt.xlabel('Restaurant Approval Status', fontweight='bold')\n",
    "plt.xticks([r + barWidth for r in range(len(approved_restaurant))], [\"Bronx\", \"Brooklyn\", \"Manhattan\", \"Queens\",\"Staten Island\"])\n",
    " \n",
    "# Create legend & Show graphic\n",
    "plt.legend()\n",
    "plt.show()\n",
    "\n",
    "\n",
    "\n"
   ]
  },
  {
   "cell_type": "markdown",
   "metadata": {},
   "source": [
    "Second, let's look into details about the opening approval at each region. Remember: 1 for sideway only, 2 for roadway only, 3 for both, 0 for none. Seems like most restaurants in each region got approval for both roadway seating and sidewalk seating. Although at the Bronx, there is a higher proportion of sideway seatings than both seatings, the difference is very small. "
   ]
  },
  {
   "cell_type": "code",
   "execution_count": 222,
   "metadata": {},
   "outputs": [
    {
     "name": "stdout",
     "output_type": "stream",
     "text": [
      "                                counts  percentage\n",
      "borough       Seating_Approval                    \n",
      "Bronx         1                     20    0.454545\n",
      "              3                     19    0.431818\n",
      "              0                      4    0.090909\n",
      "              2                      1    0.022727\n",
      "Brooklyn      3                    119    0.468504\n",
      "              1                     90    0.354331\n",
      "              2                     35    0.137795\n",
      "              0                     10    0.039370\n",
      "Manhattan     3                    243    0.477407\n",
      "              1                    170    0.333988\n",
      "              2                     67    0.131631\n",
      "              0                     29    0.056974\n",
      "Queens        3                     88    0.486188\n",
      "              1                     66    0.364641\n",
      "              2                     24    0.132597\n",
      "              0                      3    0.016575\n",
      "Staten Island 3                     10    0.833333\n",
      "              1                      1    0.083333\n",
      "              2                      1    0.083333\n"
     ]
    }
   ],
   "source": [
    "region_approval_data = dataset.groupby(\"borough\")[\"Seating_Approval\"]\n",
    "counts = region_approval_data.value_counts(sort = True)\n",
    "percentage = region_approval_data.value_counts(normalize = True, sort = True)\n",
    "df = pd.concat([counts, percentage],axis=1, keys = (\"counts\", \"percentage\"))\n",
    "print(df)\n",
    "\n",
    "\n",
    "# region_data = dataset.groupby(\"borough\")[\"approved_for_sidewalk_seating\"].value_counts(normalize = True)\n",
    "# print(region_data)\n",
    "# region_data[\"Bronx\"][\"yes\"]\n"
   ]
  },
  {
   "cell_type": "markdown",
   "metadata": {},
   "source": [
    "4. How many restaurants' seating interests match their final approvals? \n",
    "\n",
    "Let's see how many restaurant's seating interests match their final approvals (Maybe we can also check which seating interests leads to better approval rate, although the approval rate is pretty high)."
   ]
  },
  {
   "cell_type": "code",
   "execution_count": 223,
   "metadata": {},
   "outputs": [
    {
     "name": "stdout",
     "output_type": "stream",
     "text": [
      "             counts  percentage\n",
      "both            479       0.479\n",
      "sidewalk        347       0.347\n",
      "roadway         128       0.128\n",
      "openstreets      46       0.046\n"
     ]
    }
   ],
   "source": [
    "seating_interest = dataset[\"seating_interest_sidewalk\"]\n",
    "df = pd.concat([dataset[\"seating_interest_sidewalk\"].value_counts(), dataset[\"seating_interest_sidewalk\"].value_counts(normalize = True)],axis=1,  keys=('counts','percentage'))\n",
    "print(df)"
   ]
  },
  {
   "cell_type": "markdown",
   "metadata": {},
   "source": [
    "Seems like most restaurants applied for both sidewalks and roadway seatings. "
   ]
  },
  {
   "cell_type": "code",
   "execution_count": null,
   "metadata": {},
   "outputs": [],
   "source": []
  },
  {
   "cell_type": "code",
   "execution_count": null,
   "metadata": {},
   "outputs": [],
   "source": []
  },
  {
   "cell_type": "code",
   "execution_count": null,
   "metadata": {},
   "outputs": [],
   "source": []
  },
  {
   "cell_type": "code",
   "execution_count": null,
   "metadata": {},
   "outputs": [],
   "source": []
  },
  {
   "cell_type": "code",
   "execution_count": null,
   "metadata": {},
   "outputs": [],
   "source": []
  },
  {
   "cell_type": "code",
   "execution_count": null,
   "metadata": {},
   "outputs": [],
   "source": []
  },
  {
   "cell_type": "markdown",
   "metadata": {},
   "source": [
    "6. How is alcohol approval in each region? "
   ]
  },
  {
   "cell_type": "code",
   "execution_count": 228,
   "metadata": {},
   "outputs": [
    {
     "name": "stdout",
     "output_type": "stream",
     "text": [
      "                               counts  percentage\n",
      "borough       qualify_alcohol                    \n",
      "Bronx         no                   24    0.545455\n",
      "              yes                  20    0.454545\n",
      "Brooklyn      no                  120    0.472441\n",
      "              yes                 134    0.527559\n",
      "Manhattan     no                  140    0.275049\n",
      "              yes                 369    0.724951\n",
      "Queens        no                   87    0.480663\n",
      "              yes                  94    0.519337\n",
      "Staten Island yes                  12    1.000000\n"
     ]
    }
   ],
   "source": [
    "counts = dataset.groupby(\"borough\")[\"qualify_alcohol\"].value_counts(sort = False)\n",
    "percentage = dataset.groupby(\"borough\")[\"qualify_alcohol\"].value_counts(normalize = True,sort = False)\n",
    "df = pd.concat([counts, percentage], axis = 1, keys = (\"counts\", \"percentage\"))\n",
    "print(df)"
   ]
  },
  {
   "cell_type": "markdown",
   "metadata": {},
   "source": [
    "Just by looking, compare to other regions, Manhattan has the largest number of restaurant serving alcohol (369)! All the restaurant at Staten Island that are opening are serving alcohol. (Need to test significance)\n",
    "\n",
    "Let's combine seating approval and alcohol serving, and see a general picture of the operation of most restaurants in NYC during this pandemic. \n",
    "\n",
    "p.s. Seating_Approval: 1 for sideway only, 2 for roadway only, 3 for both, 0 for none. "
   ]
  },
  {
   "cell_type": "code",
   "execution_count": 230,
   "metadata": {},
   "outputs": [
    {
     "name": "stdout",
     "output_type": "stream",
     "text": [
      "                                                count  percentage\n",
      "borough       Seating_Approval qualify_alcohol                   \n",
      "Bronx         0                no                   1    0.250000\n",
      "                               yes                  3    0.750000\n",
      "              1                no                  13    0.650000\n",
      "                               yes                  7    0.350000\n",
      "              2                no                   1    1.000000\n",
      "              3                no                   9    0.473684\n",
      "                               yes                 10    0.526316\n",
      "Brooklyn      0                no                   3    0.300000\n",
      "                               yes                  7    0.700000\n",
      "              1                no                  54    0.600000\n",
      "                               yes                 36    0.400000\n",
      "              2                no                  21    0.600000\n",
      "                               yes                 14    0.400000\n",
      "              3                no                  42    0.352941\n",
      "                               yes                 77    0.647059\n",
      "Manhattan     0                no                   4    0.137931\n",
      "                               yes                 25    0.862069\n",
      "              1                no                  66    0.388235\n",
      "                               yes                104    0.611765\n",
      "              2                no                  14    0.208955\n",
      "                               yes                 53    0.791045\n",
      "              3                no                  56    0.230453\n",
      "                               yes                187    0.769547\n",
      "Queens        0                no                   2    0.666667\n",
      "                               yes                  1    0.333333\n",
      "              1                no                  38    0.575758\n",
      "                               yes                 28    0.424242\n",
      "              2                no                  13    0.541667\n",
      "                               yes                 11    0.458333\n",
      "              3                no                  34    0.386364\n",
      "                               yes                 54    0.613636\n",
      "Staten Island 1                yes                  1    1.000000\n",
      "              2                yes                  1    1.000000\n",
      "              3                yes                 10    1.000000\n"
     ]
    }
   ],
   "source": [
    "counts = dataset.groupby([\"borough\",\"Seating_Approval\"])[\"qualify_alcohol\"].value_counts(sort = False)\n",
    "percentage = dataset.groupby([\"borough\",\"Seating_Approval\"])[\"qualify_alcohol\"].value_counts(sort = False, normalize = True)\n",
    "df = pd.concat([counts, percentage], axis = 1, keys=(\"count\", \"percentage\"))\n",
    "print(df)"
   ]
  },
  {
   "cell_type": "code",
   "execution_count": null,
   "metadata": {},
   "outputs": [],
   "source": []
  },
  {
   "cell_type": "code",
   "execution_count": null,
   "metadata": {},
   "outputs": [],
   "source": []
  },
  {
   "cell_type": "code",
   "execution_count": null,
   "metadata": {},
   "outputs": [],
   "source": []
  },
  {
   "cell_type": "code",
   "execution_count": null,
   "metadata": {},
   "outputs": [],
   "source": []
  },
  {
   "cell_type": "code",
   "execution_count": null,
   "metadata": {},
   "outputs": [],
   "source": []
  },
  {
   "cell_type": "code",
   "execution_count": null,
   "metadata": {},
   "outputs": [],
   "source": []
  },
  {
   "cell_type": "code",
   "execution_count": null,
   "metadata": {},
   "outputs": [],
   "source": []
  },
  {
   "cell_type": "code",
   "execution_count": null,
   "metadata": {},
   "outputs": [],
   "source": []
  },
  {
   "cell_type": "code",
   "execution_count": null,
   "metadata": {},
   "outputs": [],
   "source": []
  },
  {
   "cell_type": "code",
   "execution_count": null,
   "metadata": {},
   "outputs": [],
   "source": []
  },
  {
   "cell_type": "code",
   "execution_count": null,
   "metadata": {},
   "outputs": [],
   "source": []
  },
  {
   "cell_type": "code",
   "execution_count": null,
   "metadata": {},
   "outputs": [],
   "source": []
  },
  {
   "cell_type": "code",
   "execution_count": null,
   "metadata": {},
   "outputs": [],
   "source": []
  },
  {
   "cell_type": "code",
   "execution_count": null,
   "metadata": {},
   "outputs": [],
   "source": []
  },
  {
   "cell_type": "code",
   "execution_count": null,
   "metadata": {},
   "outputs": [],
   "source": []
  },
  {
   "cell_type": "code",
   "execution_count": null,
   "metadata": {},
   "outputs": [],
   "source": []
  }
 ],
 "metadata": {
  "kernelspec": {
   "display_name": "Python 3",
   "language": "python",
   "name": "python3"
  },
  "language_info": {
   "codemirror_mode": {
    "name": "ipython",
    "version": 3
   },
   "file_extension": ".py",
   "mimetype": "text/x-python",
   "name": "python",
   "nbconvert_exporter": "python",
   "pygments_lexer": "ipython3",
   "version": "3.7.3"
  }
 },
 "nbformat": 4,
 "nbformat_minor": 2
}
